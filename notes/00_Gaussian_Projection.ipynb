{
 "cells": [
  {
   "cell_type": "code",
   "execution_count": 1,
   "id": "80045d50-0ecf-4824-bde2-09e86f1156dc",
   "metadata": {},
   "outputs": [],
   "source": [
    "import numpy as np\n",
    "import matplotlib.pyplot as plt\n",
    "import scipy as sp\n",
    "\n",
    "import util\n",
    "from util import Camera\n",
    "from util_gau import load_ply, naive_gaussian\n"
   ]
  },
  {
   "cell_type": "code",
   "execution_count": 12,
   "id": "a18f452f-cb5a-471b-9f72-6fcb2ffe8fd9",
   "metadata": {},
   "outputs": [],
   "source": [
    "gaussians = naive_gaussian()\n",
    "g_width, g_height = 1280, 720\n",
    "scale_modifier = 1.0\n",
    "\n",
    "SH_C0 = 0.28209479177387814\n",
    "SH_C1 = 0.4886025119029199\n",
    "SH_C2_0 = 1.0925484305920792\n",
    "SH_C2_1 = -1.0925484305920792\n",
    "SH_C2_2 = 0.31539156525252005\n",
    "SH_C2_3 = -1.0925484305920792\n",
    "SH_C2_4 = 0.5462742152960396\n",
    "SH_C3_0 = -0.5900435899266435\n",
    "SH_C3_1 = 2.890611442640554\n",
    "SH_C3_2 = -0.4570457994644658\n",
    "SH_C3_3 = 0.3731763325901154\n",
    "SH_C3_4 = -0.4570457994644658\n",
    "SH_C3_5 = 1.445305721320277\n",
    "SH_C3_6 = -0.5900435899266435\n",
    "\n",
    "class Gaussian:\n",
    "    def __init__(self, pos, scale, rot, opacity, sh):\n",
    "        self.pos = np.array(pos)\n",
    "        self.scale = np.array(scale_modifier * scale)\n",
    "        # Initialize scipy Quaternion from rot (s, x, y, z)\n",
    "        self.rot = sp.spatial.transform.Rotation.from_quat([rot[1], rot[2], rot[3], rot[0]])\n",
    "        self.opacity = opacity[0]\n",
    "        self.sh = np.array(sh)\n",
    "        self.cov3D = self.compute_cov3d()\n",
    "\n",
    "    def compute_cov3d(self):\n",
    "        cov3D = np.diag(self.scale**2)\n",
    "        cov3D = self.rot.as_matrix().T @ cov3D @ self.rot.as_matrix()\n",
    "        return cov3D\n",
    "\n",
    "    def get_pos_cam(self, view_matrix):\n",
    "        return camera.world_to_cam(self.pos)\n",
    "\n",
    "    def get_cov2d(self, camera):\n",
    "        pos_cam = self.get_pos_cam(camera.get_view_matrix())\n",
    "        view_matrix = camera.get_view_matrix()\n",
    "        [htan_fovx, htan_fovy, focal] = camera.get_htanfovxy_focal()\n",
    "        focal_x = focal_y = focal\n",
    "\n",
    "        t = np.copy(pos_cam)\n",
    "\n",
    "        limx = 1.3 * htan_fovx\n",
    "        limy = 1.3 * htan_fovy\n",
    "        txtz = t[0]/t[2]\n",
    "        tytz = t[1]/t[2]\n",
    "\n",
    "        tx = min(limx, max(-limx, txtz)) * t[2]\n",
    "        ty = min(limy, max(-limx, tytz)) * t[2]\n",
    "        tz= t[2]\n",
    "\n",
    "        J = np.array([\n",
    "            [focal_x/tz, 0.0, -(focal_x * tx)/(tz * tz)],\n",
    "            [0.0, focal_y/tz, -(focal_y * ty)/(tz * tz)],\n",
    "            [0.0, 0.0, 0.0]\n",
    "        ])\n",
    "        W = view_matrix[:3, :3].T\n",
    "        T = W @ J\n",
    "        cov = T.T @ self.cov3D.T @ T\n",
    "\n",
    "        cov[0,0] += 0.3\n",
    "        cov[1,1] += 0.3\n",
    "        return cov[:2, :2], pos_cam\n",
    "\n",
    "    def get_conic_and_bb(self, camera):\n",
    "        cov2d, pos_cam = self.get_cov2d(camera)\n",
    "        det = np.linalg.det(cov2d)\n",
    "        if det == 0.0:\n",
    "            return None\n",
    "\n",
    "        det_inv = 1.0 / det\n",
    "        cov = [cov2d[0,0], cov2d[0,1], cov2d[1,1]]\n",
    "        conic = np.array([cov[2] * det_inv, -2*cov[1] * det_inv, cov[0] * det_inv])\n",
    "\n",
    "        # compute 3-sigma bounding box\n",
    "        [htanx, htany, focal] = camera.get_htanfovxy_focal()\n",
    "\n",
    "        quadwh_scr = np.array([3.0 * np.sqrt(cov[0]), 3.0 * np.sqrt(cov[2])])\n",
    "        wh = 2 * np.array([htanx, htany]) * focal\n",
    "        quadwh_ndc = np.divide(quadwh_scr, wh) * 2\n",
    "\n",
    "        vertices = np.array([[-1, 1], [1, 1], [1, -1], [-1, -1]])\n",
    "        # Four coordxy values\n",
    "        # Elementwise multiplication of each row with quadwh_scr\n",
    "        coordxy = np.multiply(vertices, quadwh_scr)\n",
    "\n",
    "        # compute g_pos_screen and gl_position\n",
    "        view_matrix = camera.get_view_matrix()\n",
    "        projection_matrix = camera.get_projection_matrix()\n",
    "\n",
    "        position4 = np.append(self.pos, 1.0)\n",
    "        g_pos_view = view_matrix @ position4\n",
    "        g_pos_screen = projection_matrix @ g_pos_view\n",
    "        g_pos_screen = g_pos_screen / g_pos_screen[3]\n",
    "        \n",
    "        gl_position = np.multiply(vertices, quadwh_ndc) + g_pos_screen[:2]\n",
    "        gl_position = np.hstack((gl_position, np.zeros((vertices.shape[0],2))))\n",
    "        gl_position[:,2:4] = g_pos_screen[2:4]\n",
    "        \n",
    "        g_pos_quad = np.divide(g_pos_screen[:2], wh) * 2.0 \n",
    "        depth = g_pos_screen[2]\n",
    "        return conic, depth, coordxy, gl_position\n",
    "\n",
    "    def get_color(self, dir) -> np.ndarray:\n",
    "        \"\"\"Samples spherical harmonics to get color for given view direction\"\"\"\n",
    "        c0 = self.sh[0:3]   # f_dc_* from the ply file)\n",
    "        color = SH_C0 * c0\n",
    "\n",
    "        shdim = len(self.sh)\n",
    "\n",
    "        if shdim > 3:\n",
    "            # Add the first order spherical harmonics\n",
    "            c1 = self.sh[3:6]\n",
    "            c2 = self.sh[6:9]\n",
    "            c3 = self.sh[9:12]\n",
    "    \n",
    "            x = dir[0]\n",
    "            y = dir[1]\n",
    "            z = dir[2]\n",
    "            color = color - SH_C1 * y * c1 + SH_C1 * z * c2 - SH_C1 * x * c3\n",
    "            \n",
    "        if shdim > 12:\n",
    "            c4 = self.sh[12:15]\n",
    "            c5 = self.sh[15:18]\n",
    "            c6 = self.sh[18:21]\n",
    "            c7 = self.sh[21:24]\n",
    "            c8 = self.sh[24:27]\n",
    "    \n",
    "            (xx, yy, zz) = (x * x, y * y, z * z)\n",
    "            (xy, yz, xz) = (x * y, y * z, x * z)\n",
    "            \n",
    "            color = color +\tSH_C2_0 * xy * c4 + \\\n",
    "                SH_C2_1 * yz * c5 + \\\n",
    "                SH_C2_2 * (2.0 * zz - xx - yy) * c6 + \\\n",
    "                SH_C2_3 * xz * c7 + \\\n",
    "                SH_C2_4 * (xx - yy) * c8\n",
    "\n",
    "        if shdim > 27:\n",
    "            c9 = self.sh[27:30]\n",
    "            c10 = self.sh[30:33]\n",
    "            c11 = self.sh[33:36]\n",
    "            c12 = self.sh[36:39]\n",
    "            c13 = self.sh[39:42]\n",
    "            c14 = self.sh[42:45]\n",
    "            c15 = self.sh[45:48]\n",
    "    \n",
    "            color = color + \\\n",
    "                SH_C3_0 * y * (3.0 * xx - yy) * c9 + \\\n",
    "                SH_C3_1 * xy * z * c10 + \\\n",
    "                SH_C3_2 * y * (4.0 * zz - xx - yy) * c11 + \\\n",
    "                SH_C3_3 * z * (2.0 * zz - 3.0 * xx - 3.0 * yy) * c12 + \\\n",
    "                SH_C3_4 * x * (4.0 * zz - xx - yy) * c13 + \\\n",
    "                SH_C3_5 * z * (xx - yy) * c14 + \\\n",
    "                SH_C3_6 * x * (xx - 3.0 * yy) * c15\n",
    "        \n",
    "        color += 0.5\n",
    "        return np.clip(color, 0.0, 1.0)\n",
    "\n",
    "\n",
    "# Iterate over the gaussians and create Gaussian objects\n",
    "gaussian_objects = []\n",
    "for (pos, scale, rot, opacity, sh) in zip(gaussians.xyz, gaussians.scale, gaussians.rot, gaussians.opacity, gaussians.sh):\n",
    "    gau = Gaussian(pos, scale, rot, opacity, sh)\n",
    "    gaussian_objects.append(gau)"
   ]
  },
  {
   "cell_type": "code",
   "execution_count": 13,
   "id": "73f248ca-96a9-4d8b-83a2-65470b36f6b5",
   "metadata": {},
   "outputs": [
    {
     "name": "stdout",
     "output_type": "stream",
     "text": [
      "[[-0.01706919  0.03034524  0.9935327   1.        ]\n",
      " [ 0.01706919  0.03034524  0.9935327   1.        ]\n",
      " [ 0.01706919 -0.03034524  0.9935327   1.        ]\n",
      " [-0.01706919 -0.03034524  0.9935327   1.        ]]\n"
     ]
    }
   ],
   "source": [
    "# Force re-load Camera python module\n",
    "import importlib\n",
    "import util\n",
    "\n",
    "importlib.reload(util)\n",
    "\n",
    "camera = util.Camera(g_height, g_width)\n",
    "# print(gaussian_objects[1].cov3D, gaussian_objects[1].pos)\n",
    "conics_and_bbs = [gau.get_conic_and_bb(camera) for gau in gaussian_objects]\n",
    "print(conics_and_bbs[0][-1])"
   ]
  },
  {
   "cell_type": "code",
   "execution_count": 14,
   "id": "e46813a3-d5a3-4fff-89c4-fb45621105ec",
   "metadata": {},
   "outputs": [
    {
     "data": {
      "image/png": "[encoded data removed]",
      "text/plain": [
       "<Figure size 640x480 with 1 Axes>"
      ]
     },
     "metadata": {},
     "output_type": "display_data"
    }
   ],
   "source": [
    "# Plot conic using equation A*x**2 + B*x*y + C*y**2 = 1\n",
    "# where A, B, C are the conic parameters\n",
    "\n",
    "# plot the boundary where the equation is satisfied\n",
    "\n",
    "def plot_conics_and_bbs(conics_and_bbs, camera):\n",
    "    # convert to NDC\n",
    "    x_cam, y_cam = np.linspace(-20, 20, 100), np.linspace(-20, 20, 100)\n",
    "    X_cam, Y_cam = np.meshgrid(x_cam, y_cam)\n",
    "\n",
    "    ax = plt.gca()\n",
    "    colors = ['r', 'g', 'b', 'y', 'm', 'c']\n",
    "\n",
    "    for i,(conic, depth, coordxy, gl_position) in enumerate(conics_and_bbs):\n",
    "        if conic is None:\n",
    "            continue\n",
    "\n",
    "        A, B, C = conic\n",
    "\n",
    "        # coordxy is the correct scale to be used with gaussian\n",
    "        x_cam = np.linspace(coordxy[0][0], coordxy[1][0], 100)\n",
    "        y_cam = np.linspace(coordxy[1][0], coordxy[1][1], 100)\n",
    "        X, Y = np.meshgrid(x_cam, y_cam)\n",
    "        \n",
    "        # 3-sigma ellipse\n",
    "        F = A*X**2 + 2*B*X*Y + C*Y**2 - 1.0\n",
    "        XY_px = np.vstack([x_cam, y_cam])\n",
    "        # scale by w and h and offset to convert to pixel coordinates\n",
    "        XY_px[0] = XY_px[0] * camera.w / 2 + camera.w / 2\n",
    "        XY_px[1] = -XY_px[1] * camera.h / 2 + camera.h / 2\n",
    "        X_px_flat = XY_px[0]\n",
    "        Y_px_flat = XY_px[1]\n",
    "        X_px, Y_px = np.meshgrid(X_px_flat, Y_px_flat)\n",
    "\n",
    "        F_val = 0.0\n",
    "        plt.contour(X_px, Y_px, F, [F_val], colors=colors[i])\n",
    "\n",
    "        # Plot a rectangle around the gaussian position based on bb\n",
    "        bbox_screen = camera.ndc_to_pixel(gl_position)\n",
    "        \n",
    "        ul = bbox_screen[0,:2]\n",
    "        ur = bbox_screen[1,:2]\n",
    "        lr = bbox_screen[2,:2]\n",
    "        ll = bbox_screen[3,:2]\n",
    "        ax.add_patch(plt.Rectangle((ul[0], ul[1]), ur[0] - ul[0], lr[1] - ur[1], fill=False, color=colors[i]))\n",
    "\n",
    "fig = plt.figure()\n",
    "ax = plt.gca()\n",
    "plot_conics_and_bbs(conics_and_bbs, camera)\n",
    "plt.xlim([0, camera.w])\n",
    "plt.ylim([0, camera.h])\n",
    "plt.grid(True)\n",
    "plt.show()\n"
   ]
  },
  {
   "cell_type": "code",
   "execution_count": 16,
   "id": "2476af71",
   "metadata": {},
   "outputs": [
    {
     "data": {
      "image/png": "[encoded data removed]",
      "text/plain": [
       "<Figure size 600x600 with 1 Axes>"
      ]
     },
     "metadata": {},
     "output_type": "display_data"
    }
   ],
   "source": [
    "import importlib\n",
    "import util\n",
    "\n",
    "importlib.reload(util)\n",
    "\n",
    "camera = util.Camera(g_height, g_width)\n",
    "# print(gaussian_objects[1].cov3D, gaussian_objects[1].pos)\n",
    "conics_and_bbs = [gau.get_conic_and_bb(camera) for gau in gaussian_objects]\n",
    "\n",
    "\n",
    "def plot_opacity(gaussian: Gaussian, camera: Camera, w: int, h: int, bitmap: np.ndarray, alphas: np.ndarray):\n",
    "    # Compute the opacity of a gaussian given the camera\n",
    "    conic, depth, coordxy, gl_position = gaussian.get_conic_and_bb(camera)\n",
    "\n",
    "    A, B, C = conic\n",
    "\n",
    "    bbox_screen = camera.ndc_to_pixel(gl_position)\n",
    "\n",
    "    ul = bbox_screen[0,:2]\n",
    "    ur = bbox_screen[1,:2]\n",
    "    lr = bbox_screen[2,:2]\n",
    "    ll = bbox_screen[3,:2]\n",
    "    \n",
    "    y1 = int(np.floor(ul[1]))\n",
    "    y2 = int(np.ceil(ll[1]))\n",
    "    \n",
    "    x1 = int(np.floor(ul[0]))\n",
    "    x2 = int(np.ceil(ur[0]))\n",
    "    nx = abs(x2 - x1)\n",
    "    ny = abs(y1 - y2)\n",
    "\n",
    "    # Extract out inputs for the gaussian\n",
    "    x_cam_1 = coordxy[0][0]   # ul\n",
    "    x_cam_2 = coordxy[1][0]   # ur\n",
    "    y_cam_1 = coordxy[1][1]   # ur (y)\n",
    "    y_cam_2 = coordxy[2][1]   # lr\n",
    "\n",
    "    camera_dir = gaussian.pos - camera.position\n",
    "    camera_dir = camera_dir / np.linalg.norm(camera_dir)\n",
    "    color = gaussian.get_color(camera_dir)\n",
    "    \n",
    "    for x, x_cam in zip(range(x1, x2), np.linspace(x_cam_1, x_cam_2, nx)):\n",
    "        for y, y_cam in zip(range(y1, y2), np.linspace(y_cam_1, y_cam_2, ny)):\n",
    "            if x < 0 or x >= w or y < 0 or y >= h:\n",
    "                continue\n",
    "\n",
    "            # Gaussian is typically calculated as f(x, y) = A * exp(-(a*x^2 + 2*b*x*y + c*y^2))\n",
    "            power = -(A*x_cam**2 + C*y_cam**2)/2.0 - B * x_cam * y_cam\n",
    "            if power > 0.0:\n",
    "                continue\n",
    "\n",
    "            opacity = gaussian.opacity * np.exp(power)\n",
    "            opacity = min(0.99, opacity)\n",
    "            if opacity < 1.0 / 255.0:\n",
    "                continue\n",
    "\n",
    "            # Set the pixel color to the given color and opacity\n",
    "            # Do alpha blending using \"over\" method\n",
    "            alpha = opacity*0.75\n",
    "            old_alpha = alphas[y, x]\n",
    "            new_alpha = alpha + old_alpha * (1.0 - alpha)\n",
    "\n",
    "            alphas[y, x] = new_alpha\n",
    "            bitmap[y, x, :] = (color[0:3]) * alpha + bitmap[y, x, :] * (1.0 - alpha)\n",
    "\n",
    "# Get gaussian indices sorted by depth (pos_screen[2])\n",
    "indices = np.argsort([depth for conic, depth, _, _ in conics_and_bbs])\n",
    "\n",
    "# Initialize a bitmap with alpha channel of size w x h\n",
    "(h, w) = (720, 1280)\n",
    "bitmap = np.zeros((h, w, 3), np.float32)\n",
    "alphas = np.zeros((h, w))\n",
    "\n",
    "plt.figure(figsize=(6,6))\n",
    "colors = np.array([(1.0, 0, 0), (0, 1.0, 0), (0, 0, 1.0), (1.0, 1.0, 0), (1.0, 0, 1.0), (0, 1.0, 1.0)])\n",
    "for idx in indices[0:4]:\n",
    "    plot_opacity(gaussian_objects[idx], camera, w, h, bitmap, alphas)\n",
    "\n",
    "# Plot the bitmap\n",
    "plt.imshow(bitmap, alpha=alphas, interpolation='bilinear', vmin=0, vmax=1.0)\n",
    "\n",
    "plt.show()\n"
   ]
  },
  {
   "cell_type": "code",
   "execution_count": 6,
   "id": "0fdfd716",
   "metadata": {},
   "outputs": [
    {
     "data": {
      "text/plain": [
       "array([[-1., -0., -0.,  0.],\n",
       "       [ 0., -1.,  0., -0.],\n",
       "       [-0., -0.,  1., -3.],\n",
       "       [ 0.,  0.,  0.,  1.]])"
      ]
     },
     "execution_count": 6,
     "metadata": {},
     "output_type": "execute_result"
    }
   ],
   "source": [
    "camera = Camera(g_height, g_width)\n",
    "camera.get_view_matrix()"
   ]
  },
  {
   "cell_type": "code",
   "execution_count": 7,
   "id": "95129992-aab0-4726-a306-e3aa2ab8b648",
   "metadata": {},
   "outputs": [
    {
     "data": {
      "text/plain": [
       "array([[ 0.5625  ,  0.      ,  0.      ,  0.      ],\n",
       "       [ 0.      ,  1.      ,  0.      ,  0.      ],\n",
       "       [ 0.      ,  0.      , -1.0002  , -0.020002],\n",
       "       [ 0.      ,  0.      , -1.      ,  0.      ]], dtype=float32)"
      ]
     },
     "execution_count": 7,
     "metadata": {},
     "output_type": "execute_result"
    }
   ],
   "source": [
    "camera.get_projection_matrix()"
   ]
  },
  {
   "cell_type": "code",
   "execution_count": 9,
   "id": "66fbf955-30c9-42fb-a1d1-de4eb3e8db32",
   "metadata": {},
   "outputs": [
    {
     "data": {
      "text/plain": [
       "array([0., 0., 0.], dtype=float32)"
      ]
     },
     "execution_count": 9,
     "metadata": {},
     "output_type": "execute_result"
    }
   ],
   "source": [
    "gaussian_objects[0].pos"
   ]
  },
  {
   "cell_type": "code",
   "execution_count": 10,
   "id": "859af944-26fb-41a8-92c1-c2ed5ad285ae",
   "metadata": {},
   "outputs": [
    {
     "data": {
      "text/plain": [
       "[1.777777777777778, 1.0, 360.0]"
      ]
     },
     "execution_count": 10,
     "metadata": {},
     "output_type": "execute_result"
    }
   ],
   "source": [
    "camera.get_htanfovxy_focal()"
   ]
  },
  {
   "cell_type": "code",
   "execution_count": 11,
   "id": "a79f655b-6ac6-4a8f-905c-c1d2dc14e6b1",
   "metadata": {},
   "outputs": [
    {
     "data": {
      "text/plain": [
       "array([0., 0., 3.])"
      ]
     },
     "execution_count": 11,
     "metadata": {},
     "output_type": "execute_result"
    }
   ],
   "source": [
    "camera.position"
   ]
  },
  {
   "cell_type": "code",
   "execution_count": 12,
   "id": "5c73e13a-9d67-4da8-9901-fb6a09e590e6",
   "metadata": {},
   "outputs": [
    {
     "data": {
      "text/plain": [
       "array([0, 1, 2, 3])"
      ]
     },
     "execution_count": 12,
     "metadata": {},
     "output_type": "execute_result"
    }
   ],
   "source": [
    "indices"
   ]
  },
  {
   "cell_type": "code",
   "execution_count": null,
   "id": "79bba106-a10e-4a8c-b926-b8415def2315",
   "metadata": {},
   "outputs": [],
   "source": []
  }
 ],
 "metadata": {
  "kernelspec": {
   "display_name": "Python 3 (ipykernel)",
   "language": "python",
   "name": "python3"
  },
  "language_info": {
   "codemirror_mode": {
    "name": "ipython",
    "version": 3
   },
   "file_extension": ".py",
   "mimetype": "text/x-python",
   "name": "python",
   "nbconvert_exporter": "python",
   "pygments_lexer": "ipython3",
   "version": "3.10.13"
  }
 },
 "nbformat": 4,
 "nbformat_minor": 5
}
